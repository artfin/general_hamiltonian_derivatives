{
 "cells": [
  {
   "cell_type": "code",
   "execution_count": 1,
   "metadata": {},
   "outputs": [],
   "source": [
    "from utilities import *\n",
    "from subprocess import run, PIPE"
   ]
  },
  {
   "cell_type": "code",
   "execution_count": 2,
   "metadata": {},
   "outputs": [
    {
     "name": "stdout",
     "output_type": "stream",
     "text": [
      "Variables: ['R', 'pR', 'Theta', 'pTheta', 'phi', 'p_phi', 'theta', 'p_theta', 'psi', 'p_psi']\n"
     ]
    }
   ],
   "source": [
    "def print_variables():\n",
    "    import utilities\n",
    "    print(\"Variables: {0}\".format(utilities._vars))\n",
    "    \n",
    "print_variables()"
   ]
  },
  {
   "cell_type": "code",
   "execution_count": 3,
   "metadata": {},
   "outputs": [],
   "source": [
    "ps_point = PS_point(15.0, -6.00393, 0.753412, -21.1339, 3.64236, 21.3157, 0.487732, 193.326, 0.979626, 7.99349)"
   ]
  },
  {
   "cell_type": "code",
   "execution_count": 4,
   "metadata": {},
   "outputs": [],
   "source": [
    "local_path = \"/home/artfin/Desktop/repos/generalHamDerivatives/v1.0/trajectory-python-integration/\"\n",
    "\n",
    "def create_wrapper( f, ps_point, var_name ):\n",
    "    return lambda x: f( ps_point._replace(**{var_name: x}) )\n",
    "    \n",
    "h = 1.0e-4\n",
    "def finite_diff( f, ps_point, var_name, npoints = 5 ):\n",
    "    wrapper = create_wrapper(f, ps_point, var_name)\n",
    "    x = getattr(ps_point, var_name)\n",
    "    if npoints == 3:\n",
    "        return (wrapper(x + h) - wrapper(x - h)) / (2.0*h)\n",
    "    elif npoints == 5:\n",
    "        return (wrapper(x - 2.0*h) - 8.0*wrapper(x - h) + 8.0*wrapper(x + h) - wrapper(x + 2.0*h)) / (12.0 * h) \n",
    "    elif npoints == 7:\n",
    "        return (-wrapper(x - 3.0*h) + 9.0*wrapper(x - 2.0*h) - 45.0*wrapper(x - h) + 45.0*wrapper(x + h) - 9.0*wrapper(x + 2.0*h) + wrapper(x + 3.0*h)) / (60.0 * h) \n",
    "    \n",
    "def num_diff_hamiltonian(f, ps_point, npoints = 5):\n",
    "    dvars = [ finite_diff(f, ps_point, ps_point._fields[k + 1], npoints) if k % 2 == 0 \n",
    "             else -finite_diff(f, ps_point, ps_point._fields[k - 1])\n",
    "             for k in range(len(ps_point._fields))\n",
    "            ]\n",
    "    return dPS_point( *dvars )"
   ]
  },
  {
   "cell_type": "code",
   "execution_count": 5,
   "metadata": {},
   "outputs": [
    {
     "name": "stdout",
     "output_type": "stream",
     "text": [
      "0.0035329391187156\n"
     ]
    }
   ],
   "source": [
    "print(compute_hamiltonian( ps_point ))"
   ]
  },
  {
   "cell_type": "code",
   "execution_count": 6,
   "metadata": {},
   "outputs": [
    {
     "name": "stdout",
     "output_type": "stream",
     "text": [
      "Variable name \t analytical - numerical\n",
      "      dR             1.24e-13\n",
      "     dpR            -3.64e-13\n",
      "  dTheta            -2.99e-13\n",
      " dpTheta             6.22e-13\n",
      "    dphi             1.34e-13\n",
      "  dp_phi            -1.08e-15\n",
      "  dtheta            -2.21e-14\n",
      "dp_theta            -1.00e-13\n",
      "    dpsi             2.05e-13\n",
      "  dp_psi            -1.76e-13\n"
     ]
    }
   ],
   "source": [
    "analytical_dps_point = compute_hamiltonian_derivatives( ps_point )\n",
    "numerical_dps_point  = num_diff_hamiltonian(compute_hamiltonian, ps_point)\n",
    "\n",
    "print('Variable name \\t analytical - numerical')\n",
    "for var_name in dPS_point._fields:\n",
    "    print('{:>8} {:>20.2e}'.format(\n",
    "            var_name, \n",
    "            getattr(analytical_dps_point, var_name) - getattr(numerical_dps_point, var_name))\n",
    "          )"
   ]
  }
 ],
 "metadata": {
  "kernelspec": {
   "display_name": "Python 3",
   "language": "python",
   "name": "python3"
  },
  "language_info": {
   "codemirror_mode": {
    "name": "ipython",
    "version": 3
   },
   "file_extension": ".py",
   "mimetype": "text/x-python",
   "name": "python",
   "nbconvert_exporter": "python",
   "pygments_lexer": "ipython3",
   "version": "3.7.1"
  }
 },
 "nbformat": 4,
 "nbformat_minor": 2
}
